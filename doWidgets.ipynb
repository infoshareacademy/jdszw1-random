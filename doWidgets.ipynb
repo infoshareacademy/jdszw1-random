{
 "cells": [
  {
   "cell_type": "code",
   "execution_count": 67,
   "metadata": {},
   "outputs": [],
   "source": [
    "%matplotlib inline\n",
    "\n",
    "import matplotlib.pyplot as plt\n",
    "import pandas as pd\n",
    "import seaborn as sns\n",
    "import numpy as np\n",
    "import xgboost as xgb\n",
    "from sklearn.model_selection import train_test_split\n",
    "from patsy import dmatrices"
   ]
  },
  {
   "cell_type": "code",
   "execution_count": 88,
   "metadata": {},
   "outputs": [],
   "source": [
    "credit = pd.read_csv('Credit.csv', usecols=list(range(1,12)))\n",
    "credit_cp=credit.copy(deep=True)\n",
    "credit_cp['Student_dummy'] = credit_cp.Student.map({'No':0, 'Yes':1})\n",
    "credit_cp['Married_dummy'] = credit_cp.Married.map({'No':0, 'Yes':1})\n",
    "credit_cp['Active'] = np.where(credit_cp['Balance']>0, 1,0)\n",
    "credit_cp['HasCard']=np.where(credit_cp['Cards']>0, 1,0)\n",
    "dummy=pd.get_dummies(credit_cp['Gender'])\n",
    "credit_cp=pd.concat([credit_cp, dummy], axis=1)"
   ]
  },
  {
   "cell_type": "code",
   "execution_count": 89,
   "metadata": {},
   "outputs": [
    {
     "name": "stdout",
     "output_type": "stream",
     "text": [
      "<class 'pandas.core.frame.DataFrame'>\n",
      "RangeIndex: 400 entries, 0 to 399\n",
      "Data columns (total 17 columns):\n",
      "Income           400 non-null float64\n",
      "Limit            400 non-null int64\n",
      "Rating           400 non-null int64\n",
      "Cards            400 non-null int64\n",
      "Age              400 non-null int64\n",
      "Education        400 non-null int64\n",
      "Gender           400 non-null object\n",
      "Student          400 non-null object\n",
      "Married          400 non-null object\n",
      "Ethnicity        400 non-null object\n",
      "Balance          400 non-null int64\n",
      "Student_dummy    400 non-null int64\n",
      "Married_dummy    400 non-null int64\n",
      "Active           400 non-null int32\n",
      "HasCard          400 non-null int32\n",
      " Male            400 non-null uint8\n",
      "Female           400 non-null uint8\n",
      "dtypes: float64(1), int32(2), int64(8), object(4), uint8(2)\n",
      "memory usage: 44.7+ KB\n"
     ]
    }
   ],
   "source": [
    "credit_cp.info()"
   ]
  },
  {
   "cell_type": "code",
   "execution_count": 90,
   "metadata": {},
   "outputs": [],
   "source": [
    "X=credit_cp.iloc[:, [2,4,13,14]].values\n",
    "y=credit_cp.iloc[:,0].values\n",
    "\n",
    "X_train, X_test, y_train, y_test=train_test_split(X,y, test_size=0.3, random_state=42)"
   ]
  },
  {
   "cell_type": "code",
   "execution_count": 91,
   "metadata": {},
   "outputs": [
    {
     "name": "stdout",
     "output_type": "stream",
     "text": [
      "[19:12:22] WARNING: src/objective/regression_obj.cu:152: reg:linear is now deprecated in favor of reg:squarederror.\n"
     ]
    },
    {
     "data": {
      "text/plain": [
       "XGBRegressor(base_score=0.5, booster='gbtree', colsample_bylevel=1,\n",
       "             colsample_bynode=1, colsample_bytree=1, gamma=0,\n",
       "             importance_type='gain', learning_rate=0.1, max_delta_step=0,\n",
       "             max_depth=3, min_child_weight=1, missing=None, n_estimators=100,\n",
       "             n_jobs=1, nthread=None, objective='reg:linear', random_state=0,\n",
       "             reg_alpha=0, reg_lambda=1, scale_pos_weight=1, seed=None,\n",
       "             silent=None, subsample=1, verbosity=1)"
      ]
     },
     "execution_count": 91,
     "metadata": {},
     "output_type": "execute_result"
    }
   ],
   "source": [
    "model_xgb=xgb.XGBRegressor(booster='gbtree')\n",
    "model_xgb.fit(X_train, y_train)"
   ]
  },
  {
   "cell_type": "code",
   "execution_count": 92,
   "metadata": {},
   "outputs": [
    {
     "data": {
      "text/plain": [
       "0.7154182726883911"
      ]
     },
     "execution_count": 92,
     "metadata": {},
     "output_type": "execute_result"
    }
   ],
   "source": [
    "model_xgb.score(X_test, y_test)"
   ]
  },
  {
   "cell_type": "code",
   "execution_count": 93,
   "metadata": {},
   "outputs": [],
   "source": [
    "%store -r estSalary"
   ]
  },
  {
   "cell_type": "code",
   "execution_count": 94,
   "metadata": {},
   "outputs": [
    {
     "data": {
      "text/plain": [
       "[321, 18, 0, 0]"
      ]
     },
     "execution_count": 94,
     "metadata": {},
     "output_type": "execute_result"
    }
   ],
   "source": [
    "y_pred=model_xgb.predict(estSalary)\n",
    "y_pred=y_pred[0]*10000\n",
    "estSalary"
   ]
  },
  {
   "cell_type": "code",
   "execution_count": 96,
   "metadata": {},
   "outputs": [
    {
     "data": {
      "text/plain": [
       "142438.6978149414"
      ]
     },
     "execution_count": 96,
     "metadata": {},
     "output_type": "execute_result"
    }
   ],
   "source": [
    "y_pred"
   ]
  },
  {
   "cell_type": "code",
   "execution_count": 95,
   "metadata": {},
   "outputs": [
    {
     "name": "stdout",
     "output_type": "stream",
     "text": [
      "Stored 'y_pred' (float64)\n"
     ]
    }
   ],
   "source": [
    "%store y_pred"
   ]
  },
  {
   "cell_type": "code",
   "execution_count": 97,
   "metadata": {},
   "outputs": [],
   "source": [
    "%store -r estCreditScore"
   ]
  },
  {
   "cell_type": "code",
   "execution_count": 98,
   "metadata": {},
   "outputs": [],
   "source": [
    "estCreditScore=np.asarray(estCreditScore)\n",
    "estCreditScore=estCreditScore.reshape(1,3)"
   ]
  },
  {
   "cell_type": "code",
   "execution_count": 99,
   "metadata": {},
   "outputs": [],
   "source": [
    "estCreditScore=pd.DataFrame(estCreditScore, columns=['Age', 'IsActiveMember','EstimatedSalary'])"
   ]
  },
  {
   "cell_type": "code",
   "execution_count": 100,
   "metadata": {},
   "outputs": [],
   "source": [
    "banki=pd.read_csv('Dane_bank_nowe.csv', sep=',')\n",
    "banki = banki.drop([\"Unnamed: 0\", 'RowNumber'], axis=1)\n",
    "\n",
    "def div_2(x):\n",
    "    if x >= 640:\n",
    "        return 0\n",
    "    else:\n",
    "        return 1\n",
    "\n",
    "banki['CreditScore_2']=banki.apply(lambda x: div_2(x['CreditScore']),axis=1 )\n",
    "\n",
    "XX=banki.iloc[:, [5,10,11]]\n",
    "yy=banki['CreditScore_2']\n",
    "\n",
    "X_train, X_test, y_train, y_test=train_test_split(XX,yy, test_size=0.3, random_state=42, stratify=yy)\n",
    "model2=xgb.XGBClassifier()\n",
    "model2.fit(X_train, y_train)\n",
    "\n",
    "y_pred2=model2.predict(estCreditScore)\n",
    "y_pred2=y_pred2[0]"
   ]
  },
  {
   "cell_type": "code",
   "execution_count": 101,
   "metadata": {},
   "outputs": [],
   "source": [
    "if y_pred2==1:\n",
    "    info='Spłaci kredyt'\n",
    "elif y_pred2==0:\n",
    "    info='Nie spłaci kredytu'\n",
    "else:\n",
    "    info='Błąd'"
   ]
  },
  {
   "cell_type": "code",
   "execution_count": 102,
   "metadata": {},
   "outputs": [
    {
     "name": "stdout",
     "output_type": "stream",
     "text": [
      "Stored 'info' (str)\n"
     ]
    }
   ],
   "source": [
    "%store info"
   ]
  },
  {
   "cell_type": "code",
   "execution_count": null,
   "metadata": {},
   "outputs": [],
   "source": []
  }
 ],
 "metadata": {
  "kernelspec": {
   "display_name": "Python 3",
   "language": "python",
   "name": "python3"
  },
  "toc": {
   "base_numbering": 1,
   "nav_menu": {},
   "number_sections": true,
   "sideBar": true,
   "skip_h1_title": false,
   "title_cell": "Table of Contents",
   "title_sidebar": "Contents",
   "toc_cell": false,
   "toc_position": {},
   "toc_section_display": true,
   "toc_window_display": false
  }
 },
 "nbformat": 4,
 "nbformat_minor": 2
}
