{
 "cells": [
  {
   "cell_type": "code",
   "execution_count": 2,
   "metadata": {},
   "outputs": [],
   "source": [
    "import numpy as np\n",
    "import seaborn as sns\n",
    "import scipy.stats as ss\n",
    "import matplotlib.pyplot as plt\n",
    "import plotly.graph_objs as go\n",
    "from plotly.tools import FigureFactory as FF\n",
    "import plotly.plotly as py\n",
    "import plotly\n",
    "from scipy import stats"
   ]
  },
  {
   "cell_type": "code",
   "execution_count": 3,
   "metadata": {},
   "outputs": [],
   "source": [
    "def Box_Muller(u1,u2,n):\n",
    "    #u1=np.random.random(n)\n",
    "    #u2=np.random.random(n)\n",
    "    r=np.sqrt(-2*np.log(u1))\n",
    "    theta=2*np.pi*u2\n",
    "    x=r*np.cos(theta)\n",
    "    y=r*np.sin(theta)\n",
    "    return x,y"
   ]
  },
  {
   "cell_type": "code",
   "execution_count": 4,
   "metadata": {},
   "outputs": [],
   "source": [
    "n=10000\n",
    "u1=np.random.random(n)\n",
    "u2=np.random.random(n)\n",
    "(x,y)=Box_Muller(u1, u2, n)"
   ]
  },
  {
   "cell_type": "code",
   "execution_count": 5,
   "metadata": {},
   "outputs": [],
   "source": [
    "def test_norm_bm(u1, u2, n):\n",
    "    from scipy import stats\n",
    "    import pandas as pd\n",
    "    (x,y)=Box_Muller(u1, u2, n)\n",
    "    stat_x, p_x_dp=stats.normaltest(x)\n",
    "    stat_y, p_y_dp=stats.normaltest(y)\n",
    "    D_x, p_x_ks=stats.kstest(x, 'norm')\n",
    "    D_y, p_y_ks=stats.kstest(y, 'norm')\n",
    "    chi2_x, p_x_chi=stats.chisquare(x)\n",
    "    chi2_y, p_y_chi=stats.chisquare(y)\n",
    "    p_value={\"p-value x\":[p_x_dp, p_x_ks, p_x_chi], \"p-valye y\":[p_y_dp, p_y_ks, p_y_chi]}\n",
    "    df=pd.DataFrame(data=p_value, index=[\"D'Agostino-Pearson\", \"Kolmogorov-Smirnov\", \"Chi-square\"])\n",
    "    return df"
   ]
  },
  {
   "cell_type": "code",
   "execution_count": 6,
   "metadata": {},
   "outputs": [
    {
     "data": {
      "text/html": [
       "<div>\n",
       "<style scoped>\n",
       "    .dataframe tbody tr th:only-of-type {\n",
       "        vertical-align: middle;\n",
       "    }\n",
       "\n",
       "    .dataframe tbody tr th {\n",
       "        vertical-align: top;\n",
       "    }\n",
       "\n",
       "    .dataframe thead th {\n",
       "        text-align: right;\n",
       "    }\n",
       "</style>\n",
       "<table border=\"1\" class=\"dataframe\">\n",
       "  <thead>\n",
       "    <tr style=\"text-align: right;\">\n",
       "      <th></th>\n",
       "      <th>p-value x</th>\n",
       "      <th>p-valye y</th>\n",
       "    </tr>\n",
       "  </thead>\n",
       "  <tbody>\n",
       "    <tr>\n",
       "      <th>D'Agostino-Pearson</th>\n",
       "      <td>0.783900</td>\n",
       "      <td>0.693992</td>\n",
       "    </tr>\n",
       "    <tr>\n",
       "      <th>Kolmogorov-Smirnov</th>\n",
       "      <td>0.559263</td>\n",
       "      <td>0.369788</td>\n",
       "    </tr>\n",
       "    <tr>\n",
       "      <th>Chi-square</th>\n",
       "      <td>1.000000</td>\n",
       "      <td>1.000000</td>\n",
       "    </tr>\n",
       "  </tbody>\n",
       "</table>\n",
       "</div>"
      ],
      "text/plain": [
       "                    p-value x  p-valye y\n",
       "D'Agostino-Pearson   0.783900   0.693992\n",
       "Kolmogorov-Smirnov   0.559263   0.369788\n",
       "Chi-square           1.000000   1.000000"
      ]
     },
     "execution_count": 6,
     "metadata": {},
     "output_type": "execute_result"
    }
   ],
   "source": [
    "test_norm_bm(u1, u2, n)"
   ]
  }
 ],
 "metadata": {
  "kernelspec": {
   "display_name": "Python 3",
   "language": "python",
   "name": "python3"
  },
  "language_info": {
   "codemirror_mode": {
    "name": "ipython",
    "version": 3
   },
   "file_extension": ".py",
   "mimetype": "text/x-python",
   "name": "python",
   "nbconvert_exporter": "python",
   "pygments_lexer": "ipython3",
   "version": "3.6.7"
  }
 },
 "nbformat": 4,
 "nbformat_minor": 2
}
